{
 "cells": [
  {
   "cell_type": "code",
   "execution_count": 1,
   "metadata": {
    "collapsed": true
   },
   "outputs": [],
   "source": [
    "%matplotlib notebook\n",
    "\n",
    "import numpy as np\n",
    "import matplotlib.pyplot as plt\n",
    "import time\n",
    "\n",
    "import pandas as pd\n",
    "\n",
    "import shlex, subprocess\n",
    "\n",
    "import dateutil.parser\n",
    "\n",
    "from dateutil.relativedelta import relativedelta"
   ]
  },
  {
   "cell_type": "markdown",
   "metadata": {},
   "source": [
    "# values random walk"
   ]
  },
  {
   "cell_type": "code",
   "execution_count": 2,
   "metadata": {
    "collapsed": false
   },
   "outputs": [],
   "source": [
    "def random_walk(df,col):\n",
    "    \n",
    "    initial=str(df[col][0]).replace(\"C\",\"\")\n",
    "    init=float(initial)\n",
    "\n",
    "    date=df['date'][len(df.index)-1]\n",
    "    pdate=dateutil.parser.parse(date)\n",
    "    \n",
    "    newdate = pdate\n",
    "    \n",
    "    for row in range(0,len(df.index)):\n",
    "        delta=1-2*np.random.rand()\n",
    "        df.set_value(row,col,init+delta)\n",
    "        init=init+delta\n",
    "        \n",
    "        newdate = newdate + relativedelta(minutes=1)\n",
    "        iso_newdate = newdate.isoformat()        \n",
    "        \n",
    "        df.set_value(row,'date',iso_newdate)\n",
    "    \n",
    "    return df"
   ]
  },
  {
   "cell_type": "code",
   "execution_count": 3,
   "metadata": {
    "collapsed": false
   },
   "outputs": [],
   "source": [
    "def read_rand_out(filename):\n",
    "    # take in the data from the file\n",
    "   #dat2=pd.read_csv(filename,delimiter=' ')\n",
    "    dat2=pd.read_csv(filename,delimiter=' ',names=['date','O2'])\n",
    "\n",
    "    # randomize the values in column X\n",
    "    colnames=list(dat2)\n",
    "    col=colnames[1]\n",
    "\n",
    "    dat2=random_walk(dat2,col)\n",
    "\n",
    "    # write it back out\n",
    "    #dat2.to_csv(filename, sep=' ', columns=None, index=False)\n",
    "    dat2.to_csv(filename, sep=' ', header=False, index=False)\n"
   ]
  },
  {
   "cell_type": "code",
   "execution_count": null,
   "metadata": {
    "collapsed": false
   },
   "outputs": [],
   "source": [
    "filenames=['Herc-Depth.samples','Temperature.samples','Salinity.samples']\n",
    "\n",
    "while True:\n",
    "    for filename in filenames:\n",
    "        #print(filename)\n",
    "        read_rand_out(filename)\n",
    "    time.sleep(60)"
   ]
  },
  {
   "cell_type": "markdown",
   "metadata": {},
   "source": [
    "putting results in http://nautilusdataviz.media.mit.edu:8888/files/  directory"
   ]
  }
 ],
 "metadata": {
  "kernelspec": {
   "display_name": "Python 3",
   "language": "python",
   "name": "python3"
  },
  "language_info": {
   "codemirror_mode": {
    "name": "ipython",
    "version": 3
   },
   "file_extension": ".py",
   "mimetype": "text/x-python",
   "name": "python",
   "nbconvert_exporter": "python",
   "pygments_lexer": "ipython3",
   "version": "3.5.1"
  },
  "widgets": {
   "state": {},
   "version": "1.1.2"
  }
 },
 "nbformat": 4,
 "nbformat_minor": 0
}
