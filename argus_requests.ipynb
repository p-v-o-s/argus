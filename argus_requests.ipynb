{
 "cells": [
  {
   "cell_type": "markdown",
   "metadata": {
    "extensions": {
     "jupyter_dashboards": {
      "version": 1,
      "views": {
       "grid_default": {
        "col": 0,
        "height": 4,
        "hidden": false,
        "row": 0,
        "width": 4
       },
       "report_default": {
        "hidden": false
       }
      }
     }
    }
   },
   "source": [
    "# Live plot from URL"
   ]
  },
  {
   "cell_type": "code",
   "execution_count": 1,
   "metadata": {
    "collapsed": false,
    "extensions": {
     "jupyter_dashboards": {
      "version": 1,
      "views": {
       "grid_default": {
        "hidden": true
       },
       "report_default": {
        "hidden": true
       }
      }
     }
    }
   },
   "outputs": [],
   "source": [
    "%matplotlib notebook\n",
    "\n",
    "import numpy as np\n",
    "import matplotlib.pyplot as plt\n",
    "import time\n",
    "\n",
    "import pandas as pd\n",
    "\n",
    "import dateutil.parser\n",
    "\n",
    "from io import StringIO"
   ]
  },
  {
   "cell_type": "code",
   "execution_count": 2,
   "metadata": {
    "collapsed": false,
    "extensions": {
     "jupyter_dashboards": {
      "version": 1,
      "views": {
       "grid_default": {
        "col": 4,
        "height": 4,
        "hidden": false,
        "row": 0,
        "width": 4
       },
       "report_default": {
        "hidden": false
       }
      }
     }
    }
   },
   "outputs": [
    {
     "data": {
      "text/html": [
       "<style>\n",
       ".output_wrapper, .output {\n",
       "    height:auto !important;\n",
       "    max-height:2000px;  /* your desired max-height here */\n",
       "}\n",
       ".output_scroll {\n",
       "    box-shadow:none !important;\n",
       "    webkit-box-shadow:none !important;\n",
       "}\n",
       "</style>"
      ],
      "text/plain": [
       "<IPython.core.display.HTML object>"
      ]
     },
     "metadata": {},
     "output_type": "display_data"
    }
   ],
   "source": [
    "%%html\n",
    "<style>\n",
    ".output_wrapper, .output {\n",
    "    height:auto !important;\n",
    "    max-height:2000px;  /* your desired max-height here */\n",
    "}\n",
    ".output_scroll {\n",
    "    box-shadow:none !important;\n",
    "    webkit-box-shadow:none !important;\n",
    "}\n",
    "</style>"
   ]
  },
  {
   "cell_type": "code",
   "execution_count": 3,
   "metadata": {
    "collapsed": true,
    "extensions": {
     "jupyter_dashboards": {
      "version": 1,
      "views": {
       "grid_default": {
        "hidden": true
       },
       "report_default": {
        "hidden": true
       }
      }
     }
    }
   },
   "outputs": [],
   "source": [
    "def plotter(ax,dat,colname):\n",
    "    #x=np.linspace(0,1,len(dat)) #replace this with dates\n",
    "    x=dat['date'].tolist()\n",
    "    y=dat[colname].tolist()\n",
    "    #ax.plot(x, y, color)\n",
    "    ax.plot(x, y)\n",
    "    fig.canvas.draw()\n",
    "    \n",
    "def update(ax,dat,colname):\n",
    "    #x=np.linspace(0,1,len(dat)) #replace this with dates\n",
    "    x=dat['date'].tolist()\n",
    "    y=dat[colname].tolist()\n",
    "    if ax.lines:\n",
    "        for line in ax.lines:\n",
    "            line.set_xdata(x)\n",
    "            y=dat[colname].tolist()\n",
    "            line.set_ydata(y)\n",
    "    ax.relim()\n",
    "    ax.autoscale_view(True,True,True)\n"
   ]
  },
  {
   "cell_type": "code",
   "execution_count": 4,
   "metadata": {
    "collapsed": false,
    "extensions": {
     "jupyter_dashboards": {
      "version": 1,
      "views": {
       "grid_default": {
        "hidden": true
       },
       "report_default": {
        "hidden": true
       }
      }
     }
    }
   },
   "outputs": [],
   "source": [
    "import requests\n",
    "import ssl\n",
    "\n",
    "\n",
    "def getDataVar(filename,colnames,base_url):\n",
    "    #response = requests.urlopen(base_url+filename,context=ctx)\n",
    "    #data = response.read()      # a `bytes` object\n",
    "    #text = data.decode('utf-8') \n",
    "    \n",
    "    r = requests.get(base_url+filename,verify=False)\n",
    "    text=r.text\n",
    "    TESTDATA=StringIO(text)\n",
    "    dat = pd.read_csv(TESTDATA, sep=\" \",names=colnames)\n",
    "    #dat = convert_unix_time(dat)\n",
    "    return dat"
   ]
  },
  {
   "cell_type": "code",
   "execution_count": 5,
   "metadata": {
    "collapsed": false,
    "extensions": {
     "jupyter_dashboards": {
      "version": 1,
      "views": {
       "grid_default": {
        "hidden": true
       },
       "report_default": {
        "hidden": true
       }
      }
     }
    }
   },
   "outputs": [],
   "source": [
    "#convert to unix time\n",
    "\n",
    "def convert_unix_time(df):\n",
    "    col = 'date'\n",
    "    for row in range(0,len(df.index)):\n",
    "        date=dat[col].tolist()[row]\n",
    "        pdate=dateutil.parser.parse(date)\n",
    "        unixtime=int(time.mktime(pdate.timetuple()))\n",
    "        df.set_value(row,col,unixtime)\n",
    "    return df\n"
   ]
  },
  {
   "cell_type": "code",
   "execution_count": 6,
   "metadata": {
    "collapsed": false,
    "scrolled": true
   },
   "outputs": [
    {
     "ename": "NameError",
     "evalue": "name 'filenames' is not defined",
     "output_type": "error",
     "traceback": [
      "\u001b[0;31m---------------------------------------------------------------------------\u001b[0m",
      "\u001b[0;31mNameError\u001b[0m                                 Traceback (most recent call last)",
      "\u001b[0;32m<ipython-input-6-42c2c567a42c>\u001b[0m in \u001b[0;36m<module>\u001b[0;34m()\u001b[0m\n\u001b[0;32m----> 1\u001b[0;31m \u001b[0mfilename\u001b[0m\u001b[0;34m=\u001b[0m\u001b[0mfilenames\u001b[0m\u001b[0;34m[\u001b[0m\u001b[0;36m0\u001b[0m\u001b[0;34m]\u001b[0m\u001b[0;34m\u001b[0m\u001b[0m\n\u001b[0m\u001b[1;32m      2\u001b[0m \u001b[0mr\u001b[0m \u001b[0;34m=\u001b[0m \u001b[0mrequests\u001b[0m\u001b[0;34m.\u001b[0m\u001b[0mget\u001b[0m\u001b[0;34m(\u001b[0m\u001b[0mbase_url\u001b[0m\u001b[0;34m+\u001b[0m\u001b[0mfilename\u001b[0m\u001b[0;34m,\u001b[0m\u001b[0mverify\u001b[0m\u001b[0;34m=\u001b[0m\u001b[0;32mFalse\u001b[0m\u001b[0;34m)\u001b[0m\u001b[0;34m\u001b[0m\u001b[0m\n",
      "\u001b[0;31mNameError\u001b[0m: name 'filenames' is not defined"
     ]
    }
   ],
   "source": [
    "filename=filenames[0]\n",
    "r = requests.get(base_url+filename,verify=False)"
   ]
  },
  {
   "cell_type": "code",
   "execution_count": 7,
   "metadata": {
    "collapsed": false
   },
   "outputs": [
    {
     "ename": "NameError",
     "evalue": "name 'r' is not defined",
     "output_type": "error",
     "traceback": [
      "\u001b[0;31m---------------------------------------------------------------------------\u001b[0m",
      "\u001b[0;31mNameError\u001b[0m                                 Traceback (most recent call last)",
      "\u001b[0;32m<ipython-input-7-26f233ec8abf>\u001b[0m in \u001b[0;36m<module>\u001b[0;34m()\u001b[0m\n\u001b[0;32m----> 1\u001b[0;31m \u001b[0mtest\u001b[0m\u001b[0;34m=\u001b[0m\u001b[0mStringIO\u001b[0m\u001b[0;34m(\u001b[0m\u001b[0mr\u001b[0m\u001b[0;34m.\u001b[0m\u001b[0mtext\u001b[0m\u001b[0;34m)\u001b[0m\u001b[0;34m\u001b[0m\u001b[0m\n\u001b[0m",
      "\u001b[0;31mNameError\u001b[0m: name 'r' is not defined"
     ]
    }
   ],
   "source": [
    "test=StringIO(r.text)"
   ]
  },
  {
   "cell_type": "code",
   "execution_count": 9,
   "metadata": {
    "collapsed": false,
    "extensions": {
     "jupyter_dashboards": {
      "version": 1,
      "views": {
       "grid_default": {
        "hidden": true
       },
       "report_default": {
        "hidden": true
       }
      }
     }
    }
   },
   "outputs": [],
   "source": [
    "colnames=['date','O2']\n",
    "#base_url='http://nautilusdataviz.media.mit.edu:8888/files/'\n",
    "base_url='https://external.oet.org/science/monitor/'\n",
    "\n",
    "filenames=['Herc-Depth.samples','Temperature.samples','Salinity.samples']\n",
    "#filenames=['Herc-Depth.samples','Temperature.samples']"
   ]
  },
  {
   "cell_type": "code",
   "execution_count": 10,
   "metadata": {
    "collapsed": false,
    "extensions": {
     "jupyter_dashboards": {
      "version": 1,
      "views": {
       "grid_default": {
        "col": 8,
        "height": 4,
        "hidden": false,
        "row": 0,
        "width": 4
       },
       "report_default": {
        "hidden": false
       }
      }
     }
    }
   },
   "outputs": [
    {
     "name": "stdout",
     "output_type": "stream",
     "text": [
      "0\n"
     ]
    },
    {
     "ename": "NameError",
     "evalue": "name 'ax' is not defined",
     "output_type": "error",
     "traceback": [
      "\u001b[0;31m---------------------------------------------------------------------------\u001b[0m",
      "\u001b[0;31mNameError\u001b[0m                                 Traceback (most recent call last)",
      "\u001b[0;32m<ipython-input-10-dd4953e625f6>\u001b[0m in \u001b[0;36m<module>\u001b[0;34m()\u001b[0m\n\u001b[1;32m      9\u001b[0m \u001b[0;34m\u001b[0m\u001b[0m\n\u001b[1;32m     10\u001b[0m     \u001b[0;31m# convert to unix time\u001b[0m\u001b[0;34m\u001b[0m\u001b[0;34m\u001b[0m\u001b[0m\n\u001b[0;32m---> 11\u001b[0;31m     \u001b[0mplotter\u001b[0m\u001b[0;34m(\u001b[0m\u001b[0max\u001b[0m\u001b[0;34m[\u001b[0m\u001b[0mindex\u001b[0m\u001b[0;34m]\u001b[0m\u001b[0;34m,\u001b[0m\u001b[0mdat\u001b[0m\u001b[0;34m,\u001b[0m\u001b[0;34m'O2'\u001b[0m\u001b[0;34m)\u001b[0m\u001b[0;34m\u001b[0m\u001b[0m\n\u001b[0m\u001b[1;32m     12\u001b[0m \u001b[0;34m\u001b[0m\u001b[0m\n\u001b[1;32m     13\u001b[0m     \u001b[0mlogfile\u001b[0m\u001b[0;34m=\u001b[0m\u001b[0;34m'log_'\u001b[0m\u001b[0;34m+\u001b[0m\u001b[0mfilename\u001b[0m\u001b[0;34m\u001b[0m\u001b[0m\n",
      "\u001b[0;31mNameError\u001b[0m: name 'ax' is not defined"
     ]
    }
   ],
   "source": [
    "# get initial data\n",
    "index=0\n",
    "\n",
    "for index in range(0,len(filenames)):\n",
    "    filename=filenames[index]\n",
    "    dat= getDataVar(filename,colnames,base_url)\n",
    "    dat=convert_unix_time(dat)\n",
    "    print(index)\n",
    "\n",
    "    # convert to unix time\n",
    "    plotter(ax[index],dat,'O2')\n",
    "\n",
    "    logfile='log_'+filename\n",
    "    #print(logfile)\n",
    "    dat.to_csv(logfile, sep=' ', header=False, index=False)\n"
   ]
  },
  {
   "cell_type": "code",
   "execution_count": 12,
   "metadata": {
    "collapsed": false,
    "extensions": {
     "jupyter_dashboards": {
      "version": 1,
      "views": {
       "grid_default": {
        "hidden": true
       },
       "report_default": {
        "hidden": true
       }
      }
     }
    }
   },
   "outputs": [
    {
     "name": "stdout",
     "output_type": "stream",
     "text": [
      "logged: log_Herc-Depth.samples\n",
      "logged: log_Temperature.samples\n",
      "logged: log_Salinity.samples\n"
     ]
    }
   ],
   "source": [
    "# update data\n",
    "\n",
    "for index in range(0,len(filenames)):\n",
    "    filename=filenames[index]\n",
    "    dat= getDataVar(filename,colnames,base_url)\n",
    "    dat=convert_unix_time(dat)\n",
    "    update(ax[index],dat,'O2')\n",
    "    \n",
    "    \n",
    "    logfile='log_'+filename\n",
    "\n",
    "    # check to see if we already have this data\n",
    "    lt=pd.read_csv(logfile,delimiter=' ',names=['date','O2'])\n",
    "    \n",
    "    # what's the last timestamp in the log file?\n",
    "    lt1=lt['date'][len(lt.index)-1]\n",
    "\n",
    "    # what's the last timestamp in this series?    \n",
    "    dat1=dat['date'][len(dat.index)-1]\n",
    "    \n",
    "    \n",
    "    # if we don't already have the data, log it:\n",
    "    if (dat1 !=lt1):\n",
    "        dat.to_csv(logfile, sep=' ', mode='a', header=False, index=False)\n",
    "        print(\"logged: \"+logfile)\n",
    "    "
   ]
  },
  {
   "cell_type": "code",
   "execution_count": 11,
   "metadata": {
    "collapsed": false,
    "extensions": {
     "jupyter_dashboards": {
      "version": 1,
      "views": {
       "grid_default": {
        "col": 0,
        "height": 21,
        "hidden": false,
        "row": 4,
        "width": 7
       },
       "report_default": {
        "hidden": false
       }
      }
     }
    },
    "scrolled": true
   },
   "outputs": [
    {
     "data": {
      "application/javascript": [
       "/* Put everything inside the global mpl namespace */\n",
       "window.mpl = {};\n",
       "\n",
       "mpl.get_websocket_type = function() {\n",
       "    if (typeof(WebSocket) !== 'undefined') {\n",
       "        return WebSocket;\n",
       "    } else if (typeof(MozWebSocket) !== 'undefined') {\n",
       "        return MozWebSocket;\n",
       "    } else {\n",
       "        alert('Your browser does not have WebSocket support.' +\n",
       "              'Please try Chrome, Safari or Firefox ≥ 6. ' +\n",
       "              'Firefox 4 and 5 are also supported but you ' +\n",
       "              'have to enable WebSockets in about:config.');\n",
       "    };\n",
       "}\n",
       "\n",
       "mpl.figure = function(figure_id, websocket, ondownload, parent_element) {\n",
       "    this.id = figure_id;\n",
       "\n",
       "    this.ws = websocket;\n",
       "\n",
       "    this.supports_binary = (this.ws.binaryType != undefined);\n",
       "\n",
       "    if (!this.supports_binary) {\n",
       "        var warnings = document.getElementById(\"mpl-warnings\");\n",
       "        if (warnings) {\n",
       "            warnings.style.display = 'block';\n",
       "            warnings.textContent = (\n",
       "                \"This browser does not support binary websocket messages. \" +\n",
       "                    \"Performance may be slow.\");\n",
       "        }\n",
       "    }\n",
       "\n",
       "    this.imageObj = new Image();\n",
       "\n",
       "    this.context = undefined;\n",
       "    this.message = undefined;\n",
       "    this.canvas = undefined;\n",
       "    this.rubberband_canvas = undefined;\n",
       "    this.rubberband_context = undefined;\n",
       "    this.format_dropdown = undefined;\n",
       "\n",
       "    this.image_mode = 'full';\n",
       "\n",
       "    this.root = $('<div/>');\n",
       "    this._root_extra_style(this.root)\n",
       "    this.root.attr('style', 'display: inline-block');\n",
       "\n",
       "    $(parent_element).append(this.root);\n",
       "\n",
       "    this._init_header(this);\n",
       "    this._init_canvas(this);\n",
       "    this._init_toolbar(this);\n",
       "\n",
       "    var fig = this;\n",
       "\n",
       "    this.waiting = false;\n",
       "\n",
       "    this.ws.onopen =  function () {\n",
       "            fig.send_message(\"supports_binary\", {value: fig.supports_binary});\n",
       "            fig.send_message(\"send_image_mode\", {});\n",
       "            fig.send_message(\"refresh\", {});\n",
       "        }\n",
       "\n",
       "    this.imageObj.onload = function() {\n",
       "            if (fig.image_mode == 'full') {\n",
       "                // Full images could contain transparency (where diff images\n",
       "                // almost always do), so we need to clear the canvas so that\n",
       "                // there is no ghosting.\n",
       "                fig.context.clearRect(0, 0, fig.canvas.width, fig.canvas.height);\n",
       "            }\n",
       "            fig.context.drawImage(fig.imageObj, 0, 0);\n",
       "        };\n",
       "\n",
       "    this.imageObj.onunload = function() {\n",
       "        this.ws.close();\n",
       "    }\n",
       "\n",
       "    this.ws.onmessage = this._make_on_message_function(this);\n",
       "\n",
       "    this.ondownload = ondownload;\n",
       "}\n",
       "\n",
       "mpl.figure.prototype._init_header = function() {\n",
       "    var titlebar = $(\n",
       "        '<div class=\"ui-dialog-titlebar ui-widget-header ui-corner-all ' +\n",
       "        'ui-helper-clearfix\"/>');\n",
       "    var titletext = $(\n",
       "        '<div class=\"ui-dialog-title\" style=\"width: 100%; ' +\n",
       "        'text-align: center; padding: 3px;\"/>');\n",
       "    titlebar.append(titletext)\n",
       "    this.root.append(titlebar);\n",
       "    this.header = titletext[0];\n",
       "}\n",
       "\n",
       "\n",
       "\n",
       "mpl.figure.prototype._canvas_extra_style = function(canvas_div) {\n",
       "\n",
       "}\n",
       "\n",
       "\n",
       "mpl.figure.prototype._root_extra_style = function(canvas_div) {\n",
       "\n",
       "}\n",
       "\n",
       "mpl.figure.prototype._init_canvas = function() {\n",
       "    var fig = this;\n",
       "\n",
       "    var canvas_div = $('<div/>');\n",
       "\n",
       "    canvas_div.attr('style', 'position: relative; clear: both; outline: 0');\n",
       "\n",
       "    function canvas_keyboard_event(event) {\n",
       "        return fig.key_event(event, event['data']);\n",
       "    }\n",
       "\n",
       "    canvas_div.keydown('key_press', canvas_keyboard_event);\n",
       "    canvas_div.keyup('key_release', canvas_keyboard_event);\n",
       "    this.canvas_div = canvas_div\n",
       "    this._canvas_extra_style(canvas_div)\n",
       "    this.root.append(canvas_div);\n",
       "\n",
       "    var canvas = $('<canvas/>');\n",
       "    canvas.addClass('mpl-canvas');\n",
       "    canvas.attr('style', \"left: 0; top: 0; z-index: 0; outline: 0\")\n",
       "\n",
       "    this.canvas = canvas[0];\n",
       "    this.context = canvas[0].getContext(\"2d\");\n",
       "\n",
       "    var rubberband = $('<canvas/>');\n",
       "    rubberband.attr('style', \"position: absolute; left: 0; top: 0; z-index: 1;\")\n",
       "\n",
       "    var pass_mouse_events = true;\n",
       "\n",
       "    canvas_div.resizable({\n",
       "        start: function(event, ui) {\n",
       "            pass_mouse_events = false;\n",
       "        },\n",
       "        resize: function(event, ui) {\n",
       "            fig.request_resize(ui.size.width, ui.size.height);\n",
       "        },\n",
       "        stop: function(event, ui) {\n",
       "            pass_mouse_events = true;\n",
       "            fig.request_resize(ui.size.width, ui.size.height);\n",
       "        },\n",
       "    });\n",
       "\n",
       "    function mouse_event_fn(event) {\n",
       "        if (pass_mouse_events)\n",
       "            return fig.mouse_event(event, event['data']);\n",
       "    }\n",
       "\n",
       "    rubberband.mousedown('button_press', mouse_event_fn);\n",
       "    rubberband.mouseup('button_release', mouse_event_fn);\n",
       "    // Throttle sequential mouse events to 1 every 20ms.\n",
       "    rubberband.mousemove('motion_notify', mouse_event_fn);\n",
       "\n",
       "    rubberband.mouseenter('figure_enter', mouse_event_fn);\n",
       "    rubberband.mouseleave('figure_leave', mouse_event_fn);\n",
       "\n",
       "    canvas_div.on(\"wheel\", function (event) {\n",
       "        event = event.originalEvent;\n",
       "        event['data'] = 'scroll'\n",
       "        if (event.deltaY < 0) {\n",
       "            event.step = 1;\n",
       "        } else {\n",
       "            event.step = -1;\n",
       "        }\n",
       "        mouse_event_fn(event);\n",
       "    });\n",
       "\n",
       "    canvas_div.append(canvas);\n",
       "    canvas_div.append(rubberband);\n",
       "\n",
       "    this.rubberband = rubberband;\n",
       "    this.rubberband_canvas = rubberband[0];\n",
       "    this.rubberband_context = rubberband[0].getContext(\"2d\");\n",
       "    this.rubberband_context.strokeStyle = \"#000000\";\n",
       "\n",
       "    this._resize_canvas = function(width, height) {\n",
       "        // Keep the size of the canvas, canvas container, and rubber band\n",
       "        // canvas in synch.\n",
       "        canvas_div.css('width', width)\n",
       "        canvas_div.css('height', height)\n",
       "\n",
       "        canvas.attr('width', width);\n",
       "        canvas.attr('height', height);\n",
       "\n",
       "        rubberband.attr('width', width);\n",
       "        rubberband.attr('height', height);\n",
       "    }\n",
       "\n",
       "    // Set the figure to an initial 600x600px, this will subsequently be updated\n",
       "    // upon first draw.\n",
       "    this._resize_canvas(600, 600);\n",
       "\n",
       "    // Disable right mouse context menu.\n",
       "    $(this.rubberband_canvas).bind(\"contextmenu\",function(e){\n",
       "        return false;\n",
       "    });\n",
       "\n",
       "    function set_focus () {\n",
       "        canvas.focus();\n",
       "        canvas_div.focus();\n",
       "    }\n",
       "\n",
       "    window.setTimeout(set_focus, 100);\n",
       "}\n",
       "\n",
       "mpl.figure.prototype._init_toolbar = function() {\n",
       "    var fig = this;\n",
       "\n",
       "    var nav_element = $('<div/>')\n",
       "    nav_element.attr('style', 'width: 100%');\n",
       "    this.root.append(nav_element);\n",
       "\n",
       "    // Define a callback function for later on.\n",
       "    function toolbar_event(event) {\n",
       "        return fig.toolbar_button_onclick(event['data']);\n",
       "    }\n",
       "    function toolbar_mouse_event(event) {\n",
       "        return fig.toolbar_button_onmouseover(event['data']);\n",
       "    }\n",
       "\n",
       "    for(var toolbar_ind in mpl.toolbar_items) {\n",
       "        var name = mpl.toolbar_items[toolbar_ind][0];\n",
       "        var tooltip = mpl.toolbar_items[toolbar_ind][1];\n",
       "        var image = mpl.toolbar_items[toolbar_ind][2];\n",
       "        var method_name = mpl.toolbar_items[toolbar_ind][3];\n",
       "\n",
       "        if (!name) {\n",
       "            // put a spacer in here.\n",
       "            continue;\n",
       "        }\n",
       "        var button = $('<button/>');\n",
       "        button.addClass('ui-button ui-widget ui-state-default ui-corner-all ' +\n",
       "                        'ui-button-icon-only');\n",
       "        button.attr('role', 'button');\n",
       "        button.attr('aria-disabled', 'false');\n",
       "        button.click(method_name, toolbar_event);\n",
       "        button.mouseover(tooltip, toolbar_mouse_event);\n",
       "\n",
       "        var icon_img = $('<span/>');\n",
       "        icon_img.addClass('ui-button-icon-primary ui-icon');\n",
       "        icon_img.addClass(image);\n",
       "        icon_img.addClass('ui-corner-all');\n",
       "\n",
       "        var tooltip_span = $('<span/>');\n",
       "        tooltip_span.addClass('ui-button-text');\n",
       "        tooltip_span.html(tooltip);\n",
       "\n",
       "        button.append(icon_img);\n",
       "        button.append(tooltip_span);\n",
       "\n",
       "        nav_element.append(button);\n",
       "    }\n",
       "\n",
       "    var fmt_picker_span = $('<span/>');\n",
       "\n",
       "    var fmt_picker = $('<select/>');\n",
       "    fmt_picker.addClass('mpl-toolbar-option ui-widget ui-widget-content');\n",
       "    fmt_picker_span.append(fmt_picker);\n",
       "    nav_element.append(fmt_picker_span);\n",
       "    this.format_dropdown = fmt_picker[0];\n",
       "\n",
       "    for (var ind in mpl.extensions) {\n",
       "        var fmt = mpl.extensions[ind];\n",
       "        var option = $(\n",
       "            '<option/>', {selected: fmt === mpl.default_extension}).html(fmt);\n",
       "        fmt_picker.append(option)\n",
       "    }\n",
       "\n",
       "    // Add hover states to the ui-buttons\n",
       "    $( \".ui-button\" ).hover(\n",
       "        function() { $(this).addClass(\"ui-state-hover\");},\n",
       "        function() { $(this).removeClass(\"ui-state-hover\");}\n",
       "    );\n",
       "\n",
       "    var status_bar = $('<span class=\"mpl-message\"/>');\n",
       "    nav_element.append(status_bar);\n",
       "    this.message = status_bar[0];\n",
       "}\n",
       "\n",
       "mpl.figure.prototype.request_resize = function(x_pixels, y_pixels) {\n",
       "    // Request matplotlib to resize the figure. Matplotlib will then trigger a resize in the client,\n",
       "    // which will in turn request a refresh of the image.\n",
       "    this.send_message('resize', {'width': x_pixels, 'height': y_pixels});\n",
       "}\n",
       "\n",
       "mpl.figure.prototype.send_message = function(type, properties) {\n",
       "    properties['type'] = type;\n",
       "    properties['figure_id'] = this.id;\n",
       "    this.ws.send(JSON.stringify(properties));\n",
       "}\n",
       "\n",
       "mpl.figure.prototype.send_draw_message = function() {\n",
       "    if (!this.waiting) {\n",
       "        this.waiting = true;\n",
       "        this.ws.send(JSON.stringify({type: \"draw\", figure_id: this.id}));\n",
       "    }\n",
       "}\n",
       "\n",
       "\n",
       "mpl.figure.prototype.handle_save = function(fig, msg) {\n",
       "    var format_dropdown = fig.format_dropdown;\n",
       "    var format = format_dropdown.options[format_dropdown.selectedIndex].value;\n",
       "    fig.ondownload(fig, format);\n",
       "}\n",
       "\n",
       "\n",
       "mpl.figure.prototype.handle_resize = function(fig, msg) {\n",
       "    var size = msg['size'];\n",
       "    if (size[0] != fig.canvas.width || size[1] != fig.canvas.height) {\n",
       "        fig._resize_canvas(size[0], size[1]);\n",
       "        fig.send_message(\"refresh\", {});\n",
       "    };\n",
       "}\n",
       "\n",
       "mpl.figure.prototype.handle_rubberband = function(fig, msg) {\n",
       "    var x0 = msg['x0'];\n",
       "    var y0 = fig.canvas.height - msg['y0'];\n",
       "    var x1 = msg['x1'];\n",
       "    var y1 = fig.canvas.height - msg['y1'];\n",
       "    x0 = Math.floor(x0) + 0.5;\n",
       "    y0 = Math.floor(y0) + 0.5;\n",
       "    x1 = Math.floor(x1) + 0.5;\n",
       "    y1 = Math.floor(y1) + 0.5;\n",
       "    var min_x = Math.min(x0, x1);\n",
       "    var min_y = Math.min(y0, y1);\n",
       "    var width = Math.abs(x1 - x0);\n",
       "    var height = Math.abs(y1 - y0);\n",
       "\n",
       "    fig.rubberband_context.clearRect(\n",
       "        0, 0, fig.canvas.width, fig.canvas.height);\n",
       "\n",
       "    fig.rubberband_context.strokeRect(min_x, min_y, width, height);\n",
       "}\n",
       "\n",
       "mpl.figure.prototype.handle_figure_label = function(fig, msg) {\n",
       "    // Updates the figure title.\n",
       "    fig.header.textContent = msg['label'];\n",
       "}\n",
       "\n",
       "mpl.figure.prototype.handle_cursor = function(fig, msg) {\n",
       "    var cursor = msg['cursor'];\n",
       "    switch(cursor)\n",
       "    {\n",
       "    case 0:\n",
       "        cursor = 'pointer';\n",
       "        break;\n",
       "    case 1:\n",
       "        cursor = 'default';\n",
       "        break;\n",
       "    case 2:\n",
       "        cursor = 'crosshair';\n",
       "        break;\n",
       "    case 3:\n",
       "        cursor = 'move';\n",
       "        break;\n",
       "    }\n",
       "    fig.rubberband_canvas.style.cursor = cursor;\n",
       "}\n",
       "\n",
       "mpl.figure.prototype.handle_message = function(fig, msg) {\n",
       "    fig.message.textContent = msg['message'];\n",
       "}\n",
       "\n",
       "mpl.figure.prototype.handle_draw = function(fig, msg) {\n",
       "    // Request the server to send over a new figure.\n",
       "    fig.send_draw_message();\n",
       "}\n",
       "\n",
       "mpl.figure.prototype.handle_image_mode = function(fig, msg) {\n",
       "    fig.image_mode = msg['mode'];\n",
       "}\n",
       "\n",
       "mpl.figure.prototype.updated_canvas_event = function() {\n",
       "    // Called whenever the canvas gets updated.\n",
       "    this.send_message(\"ack\", {});\n",
       "}\n",
       "\n",
       "// A function to construct a web socket function for onmessage handling.\n",
       "// Called in the figure constructor.\n",
       "mpl.figure.prototype._make_on_message_function = function(fig) {\n",
       "    return function socket_on_message(evt) {\n",
       "        if (evt.data instanceof Blob) {\n",
       "            /* FIXME: We get \"Resource interpreted as Image but\n",
       "             * transferred with MIME type text/plain:\" errors on\n",
       "             * Chrome.  But how to set the MIME type?  It doesn't seem\n",
       "             * to be part of the websocket stream */\n",
       "            evt.data.type = \"image/png\";\n",
       "\n",
       "            /* Free the memory for the previous frames */\n",
       "            if (fig.imageObj.src) {\n",
       "                (window.URL || window.webkitURL).revokeObjectURL(\n",
       "                    fig.imageObj.src);\n",
       "            }\n",
       "\n",
       "            fig.imageObj.src = (window.URL || window.webkitURL).createObjectURL(\n",
       "                evt.data);\n",
       "            fig.updated_canvas_event();\n",
       "            fig.waiting = false;\n",
       "            return;\n",
       "        }\n",
       "        else if (typeof evt.data === 'string' && evt.data.slice(0, 21) == \"data:image/png;base64\") {\n",
       "            fig.imageObj.src = evt.data;\n",
       "            fig.updated_canvas_event();\n",
       "            fig.waiting = false;\n",
       "            return;\n",
       "        }\n",
       "\n",
       "        var msg = JSON.parse(evt.data);\n",
       "        var msg_type = msg['type'];\n",
       "\n",
       "        // Call the  \"handle_{type}\" callback, which takes\n",
       "        // the figure and JSON message as its only arguments.\n",
       "        try {\n",
       "            var callback = fig[\"handle_\" + msg_type];\n",
       "        } catch (e) {\n",
       "            console.log(\"No handler for the '\" + msg_type + \"' message type: \", msg);\n",
       "            return;\n",
       "        }\n",
       "\n",
       "        if (callback) {\n",
       "            try {\n",
       "                // console.log(\"Handling '\" + msg_type + \"' message: \", msg);\n",
       "                callback(fig, msg);\n",
       "            } catch (e) {\n",
       "                console.log(\"Exception inside the 'handler_\" + msg_type + \"' callback:\", e, e.stack, msg);\n",
       "            }\n",
       "        }\n",
       "    };\n",
       "}\n",
       "\n",
       "// from http://stackoverflow.com/questions/1114465/getting-mouse-location-in-canvas\n",
       "mpl.findpos = function(e) {\n",
       "    //this section is from http://www.quirksmode.org/js/events_properties.html\n",
       "    var targ;\n",
       "    if (!e)\n",
       "        e = window.event;\n",
       "    if (e.target)\n",
       "        targ = e.target;\n",
       "    else if (e.srcElement)\n",
       "        targ = e.srcElement;\n",
       "    if (targ.nodeType == 3) // defeat Safari bug\n",
       "        targ = targ.parentNode;\n",
       "\n",
       "    // jQuery normalizes the pageX and pageY\n",
       "    // pageX,Y are the mouse positions relative to the document\n",
       "    // offset() returns the position of the element relative to the document\n",
       "    var x = e.pageX - $(targ).offset().left;\n",
       "    var y = e.pageY - $(targ).offset().top;\n",
       "\n",
       "    return {\"x\": x, \"y\": y};\n",
       "};\n",
       "\n",
       "/*\n",
       " * return a copy of an object with only non-object keys\n",
       " * we need this to avoid circular references\n",
       " * http://stackoverflow.com/a/24161582/3208463\n",
       " */\n",
       "function simpleKeys (original) {\n",
       "  return Object.keys(original).reduce(function (obj, key) {\n",
       "    if (typeof original[key] !== 'object')\n",
       "        obj[key] = original[key]\n",
       "    return obj;\n",
       "  }, {});\n",
       "}\n",
       "\n",
       "mpl.figure.prototype.mouse_event = function(event, name) {\n",
       "    var canvas_pos = mpl.findpos(event)\n",
       "\n",
       "    if (name === 'button_press')\n",
       "    {\n",
       "        this.canvas.focus();\n",
       "        this.canvas_div.focus();\n",
       "    }\n",
       "\n",
       "    var x = canvas_pos.x;\n",
       "    var y = canvas_pos.y;\n",
       "\n",
       "    this.send_message(name, {x: x, y: y, button: event.button,\n",
       "                             step: event.step,\n",
       "                             guiEvent: simpleKeys(event)});\n",
       "\n",
       "    /* This prevents the web browser from automatically changing to\n",
       "     * the text insertion cursor when the button is pressed.  We want\n",
       "     * to control all of the cursor setting manually through the\n",
       "     * 'cursor' event from matplotlib */\n",
       "    event.preventDefault();\n",
       "    return false;\n",
       "}\n",
       "\n",
       "mpl.figure.prototype._key_event_extra = function(event, name) {\n",
       "    // Handle any extra behaviour associated with a key event\n",
       "}\n",
       "\n",
       "mpl.figure.prototype.key_event = function(event, name) {\n",
       "\n",
       "    // Prevent repeat events\n",
       "    if (name == 'key_press')\n",
       "    {\n",
       "        if (event.which === this._key)\n",
       "            return;\n",
       "        else\n",
       "            this._key = event.which;\n",
       "    }\n",
       "    if (name == 'key_release')\n",
       "        this._key = null;\n",
       "\n",
       "    var value = '';\n",
       "    if (event.ctrlKey && event.which != 17)\n",
       "        value += \"ctrl+\";\n",
       "    if (event.altKey && event.which != 18)\n",
       "        value += \"alt+\";\n",
       "    if (event.shiftKey && event.which != 16)\n",
       "        value += \"shift+\";\n",
       "\n",
       "    value += 'k';\n",
       "    value += event.which.toString();\n",
       "\n",
       "    this._key_event_extra(event, name);\n",
       "\n",
       "    this.send_message(name, {key: value,\n",
       "                             guiEvent: simpleKeys(event)});\n",
       "    return false;\n",
       "}\n",
       "\n",
       "mpl.figure.prototype.toolbar_button_onclick = function(name) {\n",
       "    if (name == 'download') {\n",
       "        this.handle_save(this, null);\n",
       "    } else {\n",
       "        this.send_message(\"toolbar_button\", {name: name});\n",
       "    }\n",
       "};\n",
       "\n",
       "mpl.figure.prototype.toolbar_button_onmouseover = function(tooltip) {\n",
       "    this.message.textContent = tooltip;\n",
       "};\n",
       "mpl.toolbar_items = [[\"Home\", \"Reset original view\", \"fa fa-home icon-home\", \"home\"], [\"Back\", \"Back to  previous view\", \"fa fa-arrow-left icon-arrow-left\", \"back\"], [\"Forward\", \"Forward to next view\", \"fa fa-arrow-right icon-arrow-right\", \"forward\"], [\"\", \"\", \"\", \"\"], [\"Pan\", \"Pan axes with left mouse, zoom with right\", \"fa fa-arrows icon-move\", \"pan\"], [\"Zoom\", \"Zoom to rectangle\", \"fa fa-square-o icon-check-empty\", \"zoom\"], [\"\", \"\", \"\", \"\"], [\"Download\", \"Download plot\", \"fa fa-floppy-o icon-save\", \"download\"]];\n",
       "\n",
       "mpl.extensions = [\"eps\", \"pdf\", \"png\", \"ps\", \"raw\", \"svg\"];\n",
       "\n",
       "mpl.default_extension = \"png\";var comm_websocket_adapter = function(comm) {\n",
       "    // Create a \"websocket\"-like object which calls the given IPython comm\n",
       "    // object with the appropriate methods. Currently this is a non binary\n",
       "    // socket, so there is still some room for performance tuning.\n",
       "    var ws = {};\n",
       "\n",
       "    ws.close = function() {\n",
       "        comm.close()\n",
       "    };\n",
       "    ws.send = function(m) {\n",
       "        //console.log('sending', m);\n",
       "        comm.send(m);\n",
       "    };\n",
       "    // Register the callback with on_msg.\n",
       "    comm.on_msg(function(msg) {\n",
       "        //console.log('receiving', msg['content']['data'], msg);\n",
       "        // Pass the mpl event to the overriden (by mpl) onmessage function.\n",
       "        ws.onmessage(msg['content']['data'])\n",
       "    });\n",
       "    return ws;\n",
       "}\n",
       "\n",
       "mpl.mpl_figure_comm = function(comm, msg) {\n",
       "    // This is the function which gets called when the mpl process\n",
       "    // starts-up an IPython Comm through the \"matplotlib\" channel.\n",
       "\n",
       "    var id = msg.content.data.id;\n",
       "    // Get hold of the div created by the display call when the Comm\n",
       "    // socket was opened in Python.\n",
       "    var element = $(\"#\" + id);\n",
       "    var ws_proxy = comm_websocket_adapter(comm)\n",
       "\n",
       "    function ondownload(figure, format) {\n",
       "        window.open(figure.imageObj.src);\n",
       "    }\n",
       "\n",
       "    var fig = new mpl.figure(id, ws_proxy,\n",
       "                           ondownload,\n",
       "                           element.get(0));\n",
       "\n",
       "    // Call onopen now - mpl needs it, as it is assuming we've passed it a real\n",
       "    // web socket which is closed, not our websocket->open comm proxy.\n",
       "    ws_proxy.onopen();\n",
       "\n",
       "    fig.parent_element = element.get(0);\n",
       "    fig.cell_info = mpl.find_output_cell(\"<div id='\" + id + \"'></div>\");\n",
       "    if (!fig.cell_info) {\n",
       "        console.error(\"Failed to find cell for figure\", id, fig);\n",
       "        return;\n",
       "    }\n",
       "\n",
       "    var output_index = fig.cell_info[2]\n",
       "    var cell = fig.cell_info[0];\n",
       "\n",
       "};\n",
       "\n",
       "mpl.figure.prototype.handle_close = function(fig, msg) {\n",
       "    fig.root.unbind('remove')\n",
       "\n",
       "    // Update the output cell to use the data from the current canvas.\n",
       "    fig.push_to_output();\n",
       "    var dataURL = fig.canvas.toDataURL();\n",
       "    // Re-enable the keyboard manager in IPython - without this line, in FF,\n",
       "    // the notebook keyboard shortcuts fail.\n",
       "    IPython.keyboard_manager.enable()\n",
       "    $(fig.parent_element).html('<img src=\"' + dataURL + '\">');\n",
       "    fig.close_ws(fig, msg);\n",
       "}\n",
       "\n",
       "mpl.figure.prototype.close_ws = function(fig, msg){\n",
       "    fig.send_message('closing', msg);\n",
       "    // fig.ws.close()\n",
       "}\n",
       "\n",
       "mpl.figure.prototype.push_to_output = function(remove_interactive) {\n",
       "    // Turn the data on the canvas into data in the output cell.\n",
       "    var dataURL = this.canvas.toDataURL();\n",
       "    this.cell_info[1]['text/html'] = '<img src=\"' + dataURL + '\">';\n",
       "}\n",
       "\n",
       "mpl.figure.prototype.updated_canvas_event = function() {\n",
       "    // Tell IPython that the notebook contents must change.\n",
       "    IPython.notebook.set_dirty(true);\n",
       "    this.send_message(\"ack\", {});\n",
       "    var fig = this;\n",
       "    // Wait a second, then push the new image to the DOM so\n",
       "    // that it is saved nicely (might be nice to debounce this).\n",
       "    setTimeout(function () { fig.push_to_output() }, 1000);\n",
       "}\n",
       "\n",
       "mpl.figure.prototype._init_toolbar = function() {\n",
       "    var fig = this;\n",
       "\n",
       "    var nav_element = $('<div/>')\n",
       "    nav_element.attr('style', 'width: 100%');\n",
       "    this.root.append(nav_element);\n",
       "\n",
       "    // Define a callback function for later on.\n",
       "    function toolbar_event(event) {\n",
       "        return fig.toolbar_button_onclick(event['data']);\n",
       "    }\n",
       "    function toolbar_mouse_event(event) {\n",
       "        return fig.toolbar_button_onmouseover(event['data']);\n",
       "    }\n",
       "\n",
       "    for(var toolbar_ind in mpl.toolbar_items){\n",
       "        var name = mpl.toolbar_items[toolbar_ind][0];\n",
       "        var tooltip = mpl.toolbar_items[toolbar_ind][1];\n",
       "        var image = mpl.toolbar_items[toolbar_ind][2];\n",
       "        var method_name = mpl.toolbar_items[toolbar_ind][3];\n",
       "\n",
       "        if (!name) { continue; };\n",
       "\n",
       "        var button = $('<button class=\"btn btn-default\" href=\"#\" title=\"' + name + '\"><i class=\"fa ' + image + ' fa-lg\"></i></button>');\n",
       "        button.click(method_name, toolbar_event);\n",
       "        button.mouseover(tooltip, toolbar_mouse_event);\n",
       "        nav_element.append(button);\n",
       "    }\n",
       "\n",
       "    // Add the status bar.\n",
       "    var status_bar = $('<span class=\"mpl-message\" style=\"text-align:right; float: right;\"/>');\n",
       "    nav_element.append(status_bar);\n",
       "    this.message = status_bar[0];\n",
       "\n",
       "    // Add the close button to the window.\n",
       "    var buttongrp = $('<div class=\"btn-group inline pull-right\"></div>');\n",
       "    var button = $('<button class=\"btn btn-mini btn-primary\" href=\"#\" title=\"Stop Interaction\"><i class=\"fa fa-power-off icon-remove icon-large\"></i></button>');\n",
       "    button.click(function (evt) { fig.handle_close(fig, {}); } );\n",
       "    button.mouseover('Stop Interaction', toolbar_mouse_event);\n",
       "    buttongrp.append(button);\n",
       "    var titlebar = this.root.find($('.ui-dialog-titlebar'));\n",
       "    titlebar.prepend(buttongrp);\n",
       "}\n",
       "\n",
       "mpl.figure.prototype._root_extra_style = function(el){\n",
       "    var fig = this\n",
       "    el.on(\"remove\", function(){\n",
       "\tfig.close_ws(fig, {});\n",
       "    });\n",
       "}\n",
       "\n",
       "mpl.figure.prototype._canvas_extra_style = function(el){\n",
       "    // this is important to make the div 'focusable\n",
       "    el.attr('tabindex', 0)\n",
       "    // reach out to IPython and tell the keyboard manager to turn it's self\n",
       "    // off when our div gets focus\n",
       "\n",
       "    // location in version 3\n",
       "    if (IPython.notebook.keyboard_manager) {\n",
       "        IPython.notebook.keyboard_manager.register_events(el);\n",
       "    }\n",
       "    else {\n",
       "        // location in version 2\n",
       "        IPython.keyboard_manager.register_events(el);\n",
       "    }\n",
       "\n",
       "}\n",
       "\n",
       "mpl.figure.prototype._key_event_extra = function(event, name) {\n",
       "    var manager = IPython.notebook.keyboard_manager;\n",
       "    if (!manager)\n",
       "        manager = IPython.keyboard_manager;\n",
       "\n",
       "    // Check for shift+enter\n",
       "    if (event.shiftKey && event.which == 13) {\n",
       "        this.canvas_div.blur();\n",
       "        event.shiftKey = false;\n",
       "        // Send a \"J\" for go to next cell\n",
       "        event.which = 74;\n",
       "        event.keyCode = 74;\n",
       "        manager.command_mode();\n",
       "        manager.handle_keydown(event);\n",
       "    }\n",
       "}\n",
       "\n",
       "mpl.figure.prototype.handle_save = function(fig, msg) {\n",
       "    fig.ondownload(fig, null);\n",
       "}\n",
       "\n",
       "\n",
       "mpl.find_output_cell = function(html_output) {\n",
       "    // Return the cell and output element which can be found *uniquely* in the notebook.\n",
       "    // Note - this is a bit hacky, but it is done because the \"notebook_saving.Notebook\"\n",
       "    // IPython event is triggered only after the cells have been serialised, which for\n",
       "    // our purposes (turning an active figure into a static one), is too late.\n",
       "    var cells = IPython.notebook.get_cells();\n",
       "    var ncells = cells.length;\n",
       "    for (var i=0; i<ncells; i++) {\n",
       "        var cell = cells[i];\n",
       "        if (cell.cell_type === 'code'){\n",
       "            for (var j=0; j<cell.output_area.outputs.length; j++) {\n",
       "                var data = cell.output_area.outputs[j];\n",
       "                if (data.data) {\n",
       "                    // IPython >= 3 moved mimebundle to data attribute of output\n",
       "                    data = data.data;\n",
       "                }\n",
       "                if (data['text/html'] == html_output) {\n",
       "                    return [cell, data, j];\n",
       "                }\n",
       "            }\n",
       "        }\n",
       "    }\n",
       "}\n",
       "\n",
       "// Register the function which deals with the matplotlib target/channel.\n",
       "// The kernel may be null if the page has been refreshed.\n",
       "if (IPython.notebook.kernel != null) {\n",
       "    IPython.notebook.kernel.comm_manager.register_target('matplotlib', mpl.mpl_figure_comm);\n",
       "}\n"
      ],
      "text/plain": [
       "<IPython.core.display.Javascript object>"
      ]
     },
     "metadata": {},
     "output_type": "display_data"
    },
    {
     "data": {
      "text/html": [
       "<img src=\"data:image/png;base64,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\">"
      ],
      "text/plain": [
       "<IPython.core.display.HTML object>"
      ]
     },
     "metadata": {},
     "output_type": "display_data"
    },
    {
     "data": {
      "text/plain": [
       "<matplotlib.text.Text at 0x7f835ad0d3c8>"
      ]
     },
     "execution_count": 11,
     "metadata": {},
     "output_type": "execute_result"
    }
   ],
   "source": [
    "fig,ax = plt.subplots(4)\n",
    "\n",
    "ax[0].set_ylabel('depth')\n",
    "ax[1].set_ylabel('temp')\n",
    "ax[2].set_ylabel('salinity')\n",
    "ax[3].set_ylabel('logged temp')"
   ]
  },
  {
   "cell_type": "code",
   "execution_count": 39,
   "metadata": {
    "collapsed": false
   },
   "outputs": [],
   "source": [
    "lt=pd.read_csv('log_Temperature.samples',delimiter=' ',names=['date','O2'])\n",
    "x=lt['date'].tolist()\n",
    "y=lt['O2'].tolist()\n",
    "ax[3].plot(x,y)\n",
    "ax[3].relim()\n",
    "ax[3].autoscale_view(True,True,True)"
   ]
  },
  {
   "cell_type": "code",
   "execution_count": null,
   "metadata": {
    "collapsed": true
   },
   "outputs": [],
   "source": []
  }
 ],
 "metadata": {
  "extensions": {
   "jupyter_dashboards": {
    "activeView": "report_default",
    "version": 1,
    "views": {
     "grid_default": {
      "cellMargin": 10,
      "defaultCellHeight": 20,
      "maxColumns": 12,
      "name": "grid",
      "type": "grid"
     },
     "report_default": {
      "name": "report",
      "type": "report"
     }
    }
   }
  },
  "kernelspec": {
   "display_name": "IPython (Python 3)",
   "language": "python",
   "name": "python3"
  },
  "language_info": {
   "codemirror_mode": {
    "name": "ipython",
    "version": 3
   },
   "file_extension": ".py",
   "mimetype": "text/x-python",
   "name": "python",
   "nbconvert_exporter": "python",
   "pygments_lexer": "ipython3",
   "version": "3.4.3"
  },
  "widgets": {
   "state": {},
   "version": "1.1.2"
  }
 },
 "nbformat": 4,
 "nbformat_minor": 0
}
